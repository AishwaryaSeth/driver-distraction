{
 "cells": [
  {
   "cell_type": "code",
   "execution_count": 1,
   "metadata": {},
   "outputs": [],
   "source": [
    "from azureml import Workspace\n",
    "ws = Workspace()\n",
    "experiment = ws.experiments['ba9c1c9ae5dc4fd5acb7eb95ec523d59.f-id.645ccc984bd94694a0543247b8706435']\n",
    "ds = experiment.get_intermediate_dataset(\n",
    "    node_id='33583a7c-0f61-46e0-a188-b299fa9d16cd-405',\n",
    "    port_name='Results dataset',\n",
    "    data_type_id='GenericCSV'\n",
    ")\n",
    "frame = ds.to_dataframe()"
   ]
  },
  {
   "cell_type": "code",
   "execution_count": 2,
   "metadata": {},
   "outputs": [
    {
     "data": {
      "text/html": [
       "<div>\n",
       "<table border=\"1\" class=\"dataframe\">\n",
       "  <thead>\n",
       "    <tr style=\"text-align: right;\">\n",
       "      <th></th>\n",
       "      <th>Class</th>\n",
       "      <th>Predicted as \"1\"</th>\n",
       "      <th>Predicted as \"2\"</th>\n",
       "      <th>Predicted as \"3\"</th>\n",
       "      <th>Average Log Loss</th>\n",
       "      <th>Precision</th>\n",
       "      <th>Recall</th>\n",
       "    </tr>\n",
       "  </thead>\n",
       "  <tbody>\n",
       "    <tr>\n",
       "      <th>0</th>\n",
       "      <td>1</td>\n",
       "      <td>10</td>\n",
       "      <td>1</td>\n",
       "      <td>0</td>\n",
       "      <td>0.689527</td>\n",
       "      <td>1.000000</td>\n",
       "      <td>0.909091</td>\n",
       "    </tr>\n",
       "    <tr>\n",
       "      <th>1</th>\n",
       "      <td>2</td>\n",
       "      <td>0</td>\n",
       "      <td>30</td>\n",
       "      <td>4</td>\n",
       "      <td>0.780396</td>\n",
       "      <td>0.909091</td>\n",
       "      <td>0.882353</td>\n",
       "    </tr>\n",
       "    <tr>\n",
       "      <th>2</th>\n",
       "      <td>3</td>\n",
       "      <td>0</td>\n",
       "      <td>2</td>\n",
       "      <td>13</td>\n",
       "      <td>0.726003</td>\n",
       "      <td>0.764706</td>\n",
       "      <td>0.866667</td>\n",
       "    </tr>\n",
       "  </tbody>\n",
       "</table>\n",
       "</div>"
      ],
      "text/plain": [
       "   Class  Predicted as \"1\"  Predicted as \"2\"  Predicted as \"3\"  \\\n",
       "0      1                10                 1                 0   \n",
       "1      2                 0                30                 4   \n",
       "2      3                 0                 2                13   \n",
       "\n",
       "   Average Log Loss  Precision    Recall  \n",
       "0          0.689527   1.000000  0.909091  \n",
       "1          0.780396   0.909091  0.882353  \n",
       "2          0.726003   0.764706  0.866667  "
      ]
     },
     "execution_count": 2,
     "metadata": {},
     "output_type": "execute_result"
    }
   ],
   "source": [
    "frame"
   ]
  },
  {
   "cell_type": "code",
   "execution_count": null,
   "metadata": {},
   "outputs": [],
   "source": []
  }
 ],
 "metadata": {
  "kernelspec": {
   "display_name": "Python 3",
   "language": "python",
   "name": "python3"
  },
  "language_info": {
   "codemirror_mode": {
    "name": "ipython",
    "version": 3
   },
   "file_extension": ".py",
   "mimetype": "text/x-python",
   "name": "python",
   "nbconvert_exporter": "python",
   "pygments_lexer": "ipython3",
   "version": "3.4.5"
  }
 },
 "nbformat": 4,
 "nbformat_minor": 1
}
